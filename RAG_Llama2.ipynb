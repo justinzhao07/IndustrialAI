{
 "cells": [
  {
   "cell_type": "markdown",
   "id": "5526386f-500f-43c6-a545-cdca4ab69774",
   "metadata": {},
   "source": [
    "# RAG Implementation using Llama-2 model\n",
    "\n",
    "This is a simple RAG implementation using all-mpnet-base-v2 embedding model, chromadb vector database and Llama-2 7B model."
   ]
  },
  {
   "cell_type": "markdown",
   "id": "9485b347-af60-4227-9d34-0cb0932b83ea",
   "metadata": {},
   "source": [
    "Note: Download pytorch with CUDA to use GPU"
   ]
  },
  {
   "cell_type": "code",
   "execution_count": 1,
   "id": "1ec68e36-20ec-406a-9a52-aabdaf49462b",
   "metadata": {},
   "outputs": [
    {
     "name": "stderr",
     "output_type": "stream",
     "text": [
      "C:\\Users\\justinfz\\AppData\\Local\\anaconda3\\Lib\\site-packages\\sentence_transformers\\cross_encoder\\CrossEncoder.py:11: TqdmExperimentalWarning: Using `tqdm.autonotebook.tqdm` in notebook mode. Use `tqdm.tqdm` instead to force console mode (e.g. in jupyter console)\n",
      "  from tqdm.autonotebook import tqdm, trange\n"
     ]
    }
   ],
   "source": [
    "import PyPDF2\n",
    "from sentence_transformers import SentenceTransformer\n",
    "import chromadb\n",
    "from transformers import AutoTokenizer, AutoConfig, AutoModelForCausalLM\n",
    "import torch\n",
    "import os\n",
    "from pdfminer.high_level import extract_text\n",
    "import time\n",
    "import camelot\n",
    "import json\n",
    "\n",
    "device = torch.device(\"cuda\" if torch.cuda.is_available() else \"cpu\")"
   ]
  },
  {
   "cell_type": "markdown",
   "id": "f2835361-2e51-490c-ac86-f605038190b1",
   "metadata": {},
   "source": [
    "## Chunking"
   ]
  },
  {
   "cell_type": "code",
   "execution_count": 149,
   "id": "984f2523-7a1e-4da2-88be-099a67a58d7e",
   "metadata": {},
   "outputs": [
    {
     "name": "stderr",
     "output_type": "stream",
     "text": [
      "ignore '/Perms' verify failed\n"
     ]
    }
   ],
   "source": [
    "reader = PyPDF2.PdfReader('manual2.pdf')\n",
    "doc = \"\"\n",
    "for page in reader.pages:\n",
    "    text = page.extract_text()\n",
    "    doc += text"
   ]
  },
  {
   "cell_type": "code",
   "execution_count": 151,
   "id": "ba61e14f-1935-41f4-ba32-45b17ef35940",
   "metadata": {},
   "outputs": [],
   "source": [
    "def overlapping_chunking(text, chunk_size, overlap_size):\n",
    "    words = text.split()\n",
    "    chunks = []\n",
    "    for i in range(0, len(words), chunk_size - overlap_size):\n",
    "        chunks.append(' '.join(words[i:i + chunk_size]))\n",
    "    return chunks"
   ]
  },
  {
   "cell_type": "code",
   "execution_count": 183,
   "id": "ec564d35-ec78-42a0-b0b6-0eb5a4a99390",
   "metadata": {},
   "outputs": [],
   "source": [
    "chunks = overlapping_chunking(doc, 100, 20)"
   ]
  },
  {
   "cell_type": "code",
   "execution_count": 3,
   "id": "4fbd72e8-cc83-4a18-b9b6-56b3ae21a671",
   "metadata": {},
   "outputs": [
    {
     "name": "stderr",
     "output_type": "stream",
     "text": [
      "ignore '/Perms' verify failed\n"
     ]
    },
    {
     "name": "stdout",
     "output_type": "stream",
     "text": [
      "41\n",
      "0\n",
      "2351\n",
      "2929\n",
      "5202\n",
      "3708\n",
      "207\n",
      "738\n",
      "427\n",
      "219\n",
      "720\n",
      "290\n",
      "369\n",
      "248\n",
      "888\n",
      "892\n",
      "1086\n",
      "1104\n",
      "1057\n",
      "730\n",
      "1174\n",
      "1467\n",
      "832\n",
      "658\n",
      "1201\n",
      "1234\n",
      "1163\n",
      "516\n",
      "846\n",
      "209\n",
      "233\n",
      "940\n",
      "1271\n",
      "371\n",
      "804\n",
      "1057\n",
      "1356\n",
      "565\n",
      "552\n",
      "456\n",
      "517\n",
      "320\n",
      "1379\n",
      "614\n",
      "662\n",
      "305\n",
      "435\n",
      "906\n",
      "32\n",
      "1873\n",
      "763\n",
      "587\n",
      "615\n",
      "991\n",
      "561\n",
      "1114\n",
      "1069\n",
      "668\n",
      "835\n",
      "865\n",
      "1194\n",
      "295\n",
      "345\n",
      "1189\n",
      "1474\n",
      "796\n",
      "783\n",
      "548\n",
      "265\n",
      "2241\n",
      "928\n",
      "1072\n",
      "1326\n",
      "1428\n",
      "638\n",
      "1005\n",
      "737\n",
      "463\n",
      "610\n",
      "1880\n",
      "919\n",
      "445\n",
      "418\n",
      "721\n",
      "696\n",
      "667\n",
      "442\n",
      "816\n",
      "684\n",
      "274\n",
      "1019\n",
      "1000\n",
      "265\n",
      "1468\n",
      "212\n",
      "58\n",
      "63\n",
      "192\n",
      "1223\n",
      "515\n",
      "800\n",
      "1674\n",
      "898\n",
      "1809\n",
      "1179\n",
      "1420\n",
      "2320\n",
      "2218\n",
      "692\n",
      "1937\n",
      "580\n",
      "66\n",
      "939\n",
      "657\n",
      "0\n",
      "384\n"
     ]
    }
   ],
   "source": [
    "def extract_text_by_page(pdf_path):\n",
    "    # Open the PDF file\n",
    "    with open(pdf_path, 'rb') as file:\n",
    "        reader = PyPDF2.PdfFileReader(file)\n",
    "        \n",
    "        text_chunks = []\n",
    "        \n",
    "        # Iterate through each page\n",
    "        for page_num in range(reader.getNumPages()):\n",
    "            # Get the page\n",
    "            page = reader.getPage(page_num)\n",
    "            \n",
    "            # Extract text from the page\n",
    "            text = page.extract_text()\n",
    "            print(len(text))\n",
    "            \n",
    "            # Store the text in the dictionary with the page number as the key\n",
    "            text_chunks.append(text)\n",
    "    \n",
    "    return text_chunks\n",
    "\n",
    "\n",
    "# Example usage\n",
    "pdf_path = 'manual.pdf'\n",
    "chunks = extract_text_by_page(pdf_path)"
   ]
  },
  {
   "cell_type": "code",
   "execution_count": 126,
   "id": "cc78e801-2b21-4277-b840-e4bc13395f6b",
   "metadata": {},
   "outputs": [
    {
     "data": {
      "text/plain": [
       "'Hello ASSISTA\\nQuick Set-up Guide\\nRV-5AS-D'"
      ]
     },
     "execution_count": 126,
     "metadata": {},
     "output_type": "execute_result"
    }
   ],
   "source": [
    "chunks[0]"
   ]
  },
  {
   "cell_type": "code",
   "execution_count": 202,
   "id": "f46a08ba-be8e-4536-bcdd-fe2e7eac4e16",
   "metadata": {},
   "outputs": [
    {
     "data": {
      "text/plain": [
       "(116, 768)"
      ]
     },
     "execution_count": 202,
     "metadata": {},
     "output_type": "execute_result"
    }
   ],
   "source": [
    "embedding_model = SentenceTransformer('sentence-transformers/all-mpnet-base-v2', cache_folder = '/data/base_models')\n",
    "chunk_embeddings = embedding_model.encode(chunks)\n",
    "chunk_embeddings.shape"
   ]
  },
  {
   "cell_type": "markdown",
   "id": "bb11b155-c32c-4db2-b1cf-80b00e761237",
   "metadata": {},
   "source": [
    "## Indexing"
   ]
  },
  {
   "cell_type": "code",
   "execution_count": 205,
   "id": "40d64f9a-d1eb-43e8-ac10-ce373311c0c9",
   "metadata": {},
   "outputs": [],
   "source": [
    "chroma_client = chromadb.Client()\n",
    "\n",
    "collection = chroma_client.create_collection(name=\"rag8\", metadata={\"hnsw:space\": \"cosine\"})"
   ]
  },
  {
   "cell_type": "code",
   "execution_count": 207,
   "id": "244c2a2a-28de-419e-9ba2-d8a6e1fd4245",
   "metadata": {},
   "outputs": [],
   "source": [
    "collection.add(\n",
    "    embeddings = chunk_embeddings,\n",
    "    documents=chunks,\n",
    "    ids= [str(i) for i in range(len(chunks))]\n",
    ")"
   ]
  },
  {
   "cell_type": "markdown",
   "id": "ffd99172-1dc8-44f5-a66c-c2a7c82b38f0",
   "metadata": {},
   "source": [
    "## Retrieving"
   ]
  },
  {
   "cell_type": "code",
   "execution_count": 213,
   "id": "4325b7a0-a0bb-4256-9133-d87382aaa321",
   "metadata": {},
   "outputs": [],
   "source": [
    "def retrieve_vector_db(query, n_results=1):\n",
    "    results = collection.query(\n",
    "    query_embeddings = embedding_model.encode(query).tolist(),\n",
    "    n_results=n_results\n",
    "    )\n",
    "    return results"
   ]
  },
  {
   "cell_type": "code",
   "execution_count": 215,
   "id": "f720231f-8835-442a-8cc4-c4650e933bdd",
   "metadata": {},
   "outputs": [],
   "source": [
    "query = \"What is the Manual No. of the following manual “Collaborative Robot Safety Manual”?\"\n",
    "retrieved_results = retrieve_vector_db(query)"
   ]
  },
  {
   "cell_type": "code",
   "execution_count": 217,
   "id": "fd34b3c3-1274-49d7-a120-a609954bbc92",
   "metadata": {},
   "outputs": [
    {
     "data": {
      "text/plain": [
       "{'ids': [['3']],\n",
       " 'distances': [[0.34433144330978394]],\n",
       " 'metadatas': [[None]],\n",
       " 'embeddings': None,\n",
       " 'documents': [['2ABOUT THIS MANUAL\\nThis manual explains the robot setup procedure a nd the steps required for pick-and-place operations.\\nIt also explains how to setup the Easy-setup kit (option).\\nThe manual consists of the following parts: • Part 1 SETUP\\nThis part explains how to unpack, install, wire, and operate the robot.\\n • Part 2 OPERATION\\nThis part explains how to create and run programs using RT VisualBox.\\n • Part 3 VISION SENSORThis part explains how to create and run vision sensor programs using RT VisualBox.\\nMANUALS INCLUDED WITH THIS PRODUCT\\n*1 Instances where the CR800-D controller is mentioned also refer to the CR800-05VD.Manual name Description Manual No.\\nCollaborative Robot Safety \\nManualTo ensure the safety of robot users, this ma nual provides information on common precautions and \\nsafety measures that should be taken when ha ndling the robot or creating and designing robot \\nsystems. Read this manual first.BFP-A3733\\nHello ASSISTA Quick Set-up \\nGuide (This manual)Describes procedures including unpacking, inst allation, programming using RT VisualBox, and \\noperation of the robot.BFP-A3715\\nStandard Specifications Provides information on standard prod uct specifications, options, and maintenance parts. It also \\nprovides information on safety and technical pr ecautions when introducing the robot into a new \\nenvironment.BFP-A3727\\nRobot Arm Setup and \\nMaintenanceExplains pre-operation requirements for the robot (unpacking, transportation, installation, and \\noperation checks) and how to carry out maintenance and inspection.BFP-A3729\\nController Setup and \\nMaintenanceExplains the steps that must be taken before using the robot controller (unpacking, transportation, and \\ninstallation). It also contains info rmation on maintenance and inspection.BFP-A3731\\nCollaborative Robot: Detailed \\nexplanations of functions and \\noperationsProvides information on functions sp ecific to collaborative robots. BFP-A3735\\nDetailed explanations of \\nfunctions and operations*1Provides information on functions and operation me thods, how to use MELFA-BASIC VI commands in \\nprograms, how to connect external input/output devic es, and how to set parameters. The FR series is \\nused as an example for explanati on purposes. For information on unsupported functions, refer to the \\nseparate Instruction Manual \"Collaborative Robot:  Detailed explanations of  functions and operations\".BFP-A3478\\nTroubleshooting*1Provides information on the causes and solutions to errors that may occur while operating the robot. BFP-A3480\\nTracking Function*1Provides information on the specif ications, functions, and usage of t he conveyor tracking function. BFP-A3520\\nGOT Direct Connection \\nExtended Function*1Describes the data configuration of the memory between the GOT and the robot, monitoring, and operating procedures.BFP-A3546\\nEthernet Function\\n*1Explains how to communicate with a computer over Ethernet using TCP/IP protocols. BFP-A3379']],\n",
       " 'uris': None,\n",
       " 'data': None}"
      ]
     },
     "execution_count": 217,
     "metadata": {},
     "output_type": "execute_result"
    }
   ],
   "source": [
    "retrieved_results"
   ]
  },
  {
   "cell_type": "code",
   "execution_count": 219,
   "id": "4d1137cb-624a-40d7-b243-6c007e5f567d",
   "metadata": {},
   "outputs": [
    {
     "name": "stdout",
     "output_type": "stream",
     "text": [
      "2ABOUT THIS MANUAL\n",
      "This manual explains the robot setup procedure a nd the steps required for pick-and-place operations.\n",
      "It also explains how to setup the Easy-setup kit (option).\n",
      "The manual consists of the following parts: • Part 1 SETUP\n",
      "This part explains how to unpack, install, wire, and operate the robot.\n",
      " • Part 2 OPERATION\n",
      "This part explains how to create and run programs using RT VisualBox.\n",
      " • Part 3 VISION SENSORThis part explains how to create and run vision sensor programs using RT VisualBox.\n",
      "MANUALS INCLUDED WITH THIS PRODUCT\n",
      "*1 Instances where the CR800-D controller is mentioned also refer to the CR800-05VD.Manual name Description Manual No.\n",
      "Collaborative Robot Safety \n",
      "ManualTo ensure the safety of robot users, this ma nual provides information on common precautions and \n",
      "safety measures that should be taken when ha ndling the robot or creating and designing robot \n",
      "systems. Read this manual first.BFP-A3733\n",
      "Hello ASSISTA Quick Set-up \n",
      "Guide (This manual)Describes procedures including unpacking, inst allation, programming using RT VisualBox, and \n",
      "operation of the robot.BFP-A3715\n",
      "Standard Specifications Provides information on standard prod uct specifications, options, and maintenance parts. It also \n",
      "provides information on safety and technical pr ecautions when introducing the robot into a new \n",
      "environment.BFP-A3727\n",
      "Robot Arm Setup and \n",
      "MaintenanceExplains pre-operation requirements for the robot (unpacking, transportation, installation, and \n",
      "operation checks) and how to carry out maintenance and inspection.BFP-A3729\n",
      "Controller Setup and \n",
      "MaintenanceExplains the steps that must be taken before using the robot controller (unpacking, transportation, and \n",
      "installation). It also contains info rmation on maintenance and inspection.BFP-A3731\n",
      "Collaborative Robot: Detailed \n",
      "explanations of functions and \n",
      "operationsProvides information on functions sp ecific to collaborative robots. BFP-A3735\n",
      "Detailed explanations of \n",
      "functions and operations*1Provides information on functions and operation me thods, how to use MELFA-BASIC VI commands in \n",
      "programs, how to connect external input/output devic es, and how to set parameters. The FR series is \n",
      "used as an example for explanati on purposes. For information on unsupported functions, refer to the \n",
      "separate Instruction Manual \"Collaborative Robot:  Detailed explanations of  functions and operations\".BFP-A3478\n",
      "Troubleshooting*1Provides information on the causes and solutions to errors that may occur while operating the robot. BFP-A3480\n",
      "Tracking Function*1Provides information on the specif ications, functions, and usage of t he conveyor tracking function. BFP-A3520\n",
      "GOT Direct Connection \n",
      "Extended Function*1Describes the data configuration of the memory between the GOT and the robot, monitoring, and operating procedures.BFP-A3546\n",
      "Ethernet Function\n",
      "*1Explains how to communicate with a computer over Ethernet using TCP/IP protocols. BFP-A3379\n"
     ]
    }
   ],
   "source": [
    "context = '\\n\\n'.join(retrieved_results['documents'][0])\n",
    "print(context)"
   ]
  },
  {
   "cell_type": "markdown",
   "id": "9aa4e529-12cf-4d4a-886a-6a513765aaae",
   "metadata": {},
   "source": [
    "## Answer Generation"
   ]
  },
  {
   "cell_type": "code",
   "execution_count": 13,
   "id": "fe185dbb-262f-4a1d-ad73-adcbbf0f55a6",
   "metadata": {},
   "outputs": [
    {
     "data": {
      "application/vnd.jupyter.widget-view+json": {
       "model_id": "335dcf9bcbb544a398e696c206a39b29",
       "version_major": 2,
       "version_minor": 0
      },
      "text/plain": [
       "Loading checkpoint shards:   0%|          | 0/2 [00:00<?, ?it/s]"
      ]
     },
     "metadata": {},
     "output_type": "display_data"
    }
   ],
   "source": [
    "model = AutoModelForCausalLM.from_pretrained(\n",
    "    \"meta-llama/Llama-2-7b-chat-hf\",\n",
    "    torch_dtype=torch.bfloat16,\n",
    "    device_map='auto'\n",
    ")\n",
    "\n",
    "tokenizer = AutoTokenizer.from_pretrained(\"meta-llama/Llama-2-7b-chat-hf\", \n",
    "                                         )"
   ]
  },
  {
   "cell_type": "code",
   "execution_count": 15,
   "id": "df275835-e215-446c-8ec3-1a614169bbf5",
   "metadata": {},
   "outputs": [],
   "source": [
    "def get_llama2_chat_reponse(prompt, max_new_tokens=250):\n",
    "    inputs = tokenizer(prompt, return_tensors=\"pt\").to(device)\n",
    "    outputs = model.generate(**inputs, max_new_tokens=max_new_tokens, temperature= 0.00001)\n",
    "    response = tokenizer.decode(outputs[0], skip_special_tokens=True)\n",
    "    return response"
   ]
  },
  {
   "cell_type": "code",
   "execution_count": 5,
   "id": "c649a5f7-c086-469a-b468-1dad9d366612",
   "metadata": {},
   "outputs": [
    {
     "name": "stderr",
     "output_type": "stream",
     "text": [
      "Special tokens have been added in the vocabulary, make sure the associated word embeddings are fine-tuned or trained.\n"
     ]
    },
    {
     "data": {
      "application/vnd.jupyter.widget-view+json": {
       "model_id": "b1d63924dfe84d68b8040e6c37b92093",
       "version_major": 2,
       "version_minor": 0
      },
      "text/plain": [
       "Loading checkpoint shards:   0%|          | 0/4 [00:00<?, ?it/s]"
      ]
     },
     "metadata": {},
     "output_type": "display_data"
    }
   ],
   "source": [
    "model_id = \"meta-llama/Meta-Llama-3-8B-Instruct\"\n",
    "\n",
    "tokenizer = AutoTokenizer.from_pretrained(model_id)\n",
    "model = AutoModelForCausalLM.from_pretrained(\n",
    "    model_id,\n",
    "    torch_dtype=torch.bfloat16,\n",
    "    device_map=\"auto\",\n",
    ")"
   ]
  },
  {
   "cell_type": "code",
   "execution_count": 113,
   "id": "862e3a62-680e-4c24-a9dd-901dc43d3449",
   "metadata": {},
   "outputs": [
    {
     "data": {
      "text/plain": [
       "LlamaForCausalLM(\n",
       "  (model): LlamaModel(\n",
       "    (embed_tokens): Embedding(32000, 4096)\n",
       "    (layers): ModuleList(\n",
       "      (0-31): 32 x LlamaDecoderLayer(\n",
       "        (self_attn): LlamaSdpaAttention(\n",
       "          (q_proj): Linear(in_features=4096, out_features=4096, bias=False)\n",
       "          (k_proj): Linear(in_features=4096, out_features=4096, bias=False)\n",
       "          (v_proj): Linear(in_features=4096, out_features=4096, bias=False)\n",
       "          (o_proj): Linear(in_features=4096, out_features=4096, bias=False)\n",
       "          (rotary_emb): LlamaRotaryEmbedding()\n",
       "        )\n",
       "        (mlp): LlamaMLP(\n",
       "          (gate_proj): Linear(in_features=4096, out_features=11008, bias=False)\n",
       "          (up_proj): Linear(in_features=4096, out_features=11008, bias=False)\n",
       "          (down_proj): Linear(in_features=11008, out_features=4096, bias=False)\n",
       "          (act_fn): SiLU()\n",
       "        )\n",
       "        (input_layernorm): LlamaRMSNorm()\n",
       "        (post_attention_layernorm): LlamaRMSNorm()\n",
       "      )\n",
       "    )\n",
       "    (norm): LlamaRMSNorm()\n",
       "  )\n",
       "  (lm_head): Linear(in_features=4096, out_features=32000, bias=False)\n",
       ")"
      ]
     },
     "execution_count": 113,
     "metadata": {},
     "output_type": "execute_result"
    }
   ],
   "source": [
    "model.to(\"cuda\")"
   ]
  },
  {
   "cell_type": "code",
   "execution_count": 9,
   "id": "17138e8d-02ae-4ba1-862b-b75897d2eab4",
   "metadata": {},
   "outputs": [],
   "source": [
    "terminators = [\n",
    "    tokenizer.eos_token_id,\n",
    "    tokenizer.convert_tokens_to_ids(\"<|eot_id|>\")\n",
    "]\n",
    "def get_llama3_chat_reponse(messages):\n",
    "    input_ids = tokenizer.apply_chat_template(\n",
    "    messages,\n",
    "    return_tensors=\"pt\").to(model.device)\n",
    "    outputs = model.generate(\n",
    "    input_ids,\n",
    "    max_new_tokens=800,\n",
    "    eos_token_id=terminators,\n",
    "    do_sample=True,\n",
    "    temperature=0.01,\n",
    "    top_p=0.9,)\n",
    "    response = outputs[0][input_ids.shape[-1]:]\n",
    "    print(tokenizer.decode(response, skip_special_tokens=True))"
   ]
  },
  {
   "cell_type": "code",
   "execution_count": 15,
   "id": "02be5187-f8e2-4d5b-8e33-e3dbdb1d907b",
   "metadata": {},
   "outputs": [
    {
     "name": "stderr",
     "output_type": "stream",
     "text": [
      "The attention mask and the pad token id were not set. As a consequence, you may observe unexpected behavior. Please pass your input's `attention_mask` to obtain reliable results.\n",
      "Setting `pad_token_id` to `eos_token_id`:128009 for open-end generation.\n"
     ]
    },
    {
     "name": "stdout",
     "output_type": "stream",
     "text": [
      "assistant\n",
      "\n",
      "Here is a basic example of how you can create a machine learning model in Python using scikit-learn library:\n",
      "\n",
      "```\n",
      "# Import necessary libraries\n",
      "from sklearn.datasets import load_iris\n",
      "from sklearn.model_selection import train_test_split\n",
      "from sklearn.naive_bayes import GaussianNB\n",
      "from sklearn.metrics import accuracy_score\n",
      "\n",
      "# Load iris dataset\n",
      "iris = load_iris()\n",
      "X = iris.data\n",
      "y = iris.target\n",
      "\n",
      "# Split the dataset into a training set and a test set\n",
      "X_train, X_test, y_train, y_test = train_test_split(X, y, test_size=0.2, random_state=42)\n",
      "\n",
      "# Create a Gaussian Naive Bayes classifier\n",
      "gnb = GaussianNB()\n",
      "\n",
      "# Train the model using the training sets\n",
      "gnb.fit(X_train, y_train)\n",
      "\n",
      "# Predict the response for test dataset\n",
      "y_pred = gnb.predict(X_test)\n",
      "\n",
      "# Model Accuracy\n",
      "print(\"Accuracy:\", accuracy_score(y_test, y_pred))\n",
      "```\n",
      "\n",
      "This code creates a Gaussian Naive Bayes classifier and trains it on the iris dataset. It then uses the trained model to predict the labels of the test set and calculates the accuracy of the model.\n",
      "\n",
      "Here's a breakdown of the code:\n",
      "\n",
      "1. We import the necessary libraries: `load_iris` from `sklearn.datasets` to load the iris dataset, `train_test_split` from `sklearn.model_selection` to split the dataset into a training set and a test set, `GaussianNB` from `sklearn.naive_bayes` to create a Gaussian Naive Bayes classifier, and `accuracy_score` from `sklearn.metrics` to calculate the accuracy of the model.\n",
      "2. We load the iris dataset using `load_iris`.\n",
      "3. We split the dataset into a training set and a test set using `train_test_split`. The `test_size` parameter is set to 0.2, which means that 20% of the dataset will be used as the test set.\n",
      "4. We create a Gaussian Naive Bayes classifier using `GaussianNB`.\n",
      "5. We train the model using the training sets using `fit`.\n",
      "6. We predict the response for the test dataset using `predict`.\n",
      "7. We calculate the accuracy of the model using `accuracy_score`.\n",
      "\n",
      "Note that this is just a basic example, and you may need to preprocess your data, tune hyperparameters, and try different models to achieve good results on your specific problem.\n",
      "--- 14.58 seconds ---\n"
     ]
    }
   ],
   "source": [
    "query = \"Write code in python for creating a machine learning model\"\n",
    "messages = [\n",
    "    {\"role\": \"system\", \"content\": \"You are a chatbot who gives code based on a query\"},\n",
    "    {\"role\": \"user\", \"content\": {query}},\n",
    "]\n",
    "start_time = time.time()\n",
    "get_llama3_chat_reponse(messages)\n",
    "print(\"--- %.2f seconds ---\" % (time.time() - start_time))"
   ]
  },
  {
   "cell_type": "code",
   "execution_count": 229,
   "id": "cda27980-9d1e-48dc-b6ed-4cfb7adad0af",
   "metadata": {},
   "outputs": [
    {
     "name": "stderr",
     "output_type": "stream",
     "text": [
      "The attention mask and the pad token id were not set. As a consequence, you may observe unexpected behavior. Please pass your input's `attention_mask` to obtain reliable results.\n",
      "Setting `pad_token_id` to `eos_token_id`:128009 for open-end generation.\n"
     ]
    },
    {
     "name": "stdout",
     "output_type": "stream",
     "text": [
      "assistant\n",
      "\n",
      "According to Table 2-1: Standard specifications of RV-5AS-D robot, the unit of operating range is \"Degree\" for Waist (J1), Shoulder (J2), and Elbow (J3), and \"mm\" for Wrist twist (J4), Wrist pitch (J5), and Wrist roll (J6).\n",
      "--- 4.20 seconds ---\n"
     ]
    }
   ],
   "source": [
    "query = \"What is the unit of operating range for table 2.1 the RV-5AS-D robot?\"\n",
    "retrieved_results = retrieve_vector_db(query, n_results=3)\n",
    "context = '\\n\\n'.join(retrieved_results[0])\n",
    "messages = [\n",
    "    {\"role\": \"system\", \"content\": \"You are a chatbot who gives an answer strictly based on the content provided\"},\n",
    "    {\"role\": \"system\", \"content\": {context}},\n",
    "    {\"role\": \"user\", \"content\": {query}},\n",
    "]\n",
    "start_time = time.time()\n",
    "get_llama3_chat_reponse(messages)\n",
    "print(\"--- %.2f seconds ---\" % (time.time() - start_time))"
   ]
  },
  {
   "cell_type": "code",
   "execution_count": 231,
   "id": "fa784204-b08b-47c1-8926-5b3f516ea96a",
   "metadata": {},
   "outputs": [
    {
     "name": "stdout",
     "output_type": "stream",
     "text": [
      "Mitsubishi Electric Industrial Robot\n",
      "CR800-05VD Controller\n",
      "RV-5AS-D Standard Specifications Manual\n",
      "BFP-A3727-M\n",
      "\n",
      "2-12   Standard specifications2 Robot arm\n",
      "2 Robot arm\n",
      "2.1 Standard specifications\n",
      "2.1.1 Basic specifications\n",
      "Table 2-1: Standard specific ations of RV-5AS-D robot\n",
      "Item Unit Specifications\n",
      "Type RV-5AS-D\n",
      "Environment Oil mist environments\n",
      "Degree of freedom 6\n",
      "Installation posture Floor mounted / ceiling mountedStructure Vertical articulated robots\n",
      "Drive system AC servo motor (brake provided on all axes)\n",
      "Position detection method Absolute encoderMotor capac-\n",
      "ityWaist (J1) W 200\n",
      "Shoulder (J2) 200\n",
      "Elbow (J3) 150Wrist twist (J4) 100\n",
      "Wrist pitch (J5) 100\n",
      "Wrist roll (J6) 50\n",
      "Operating\n",
      "rangeWaist (J1) Degree ±240\n",
      "Shoulder (J2) ±148\n",
      "Elbow (J3) ±150Wrist twist (J4) ±200Wrist pitch (J5) ±120\n",
      "Wrist roll (J6) ±200\n",
      "Speed of\n",
      "motion \n",
      "Note1) Waist (J1) Degree/\n",
      "s124 (59.6)\n",
      "Shoulder (J2) 124 (34.0)\n",
      "Elbow (J3) 124 (34.0)\n",
      "Wrist twist (J4) 297 (142)Wrist pitch (J5) 356 (215)\n",
      "Wrist roll (J6) 360\n",
      "Maximum reach radius (P point) mm 910Maximum \n",
      "resultant velocity \n",
      "Note2) High-speed opera-tion mode\n",
      "mm/sec1,000\n",
      "Collaborative \n",
      "operation mode (Standard opera-\n",
      "tion)250\n",
      "Collaborative \n",
      "operation mode \n",
      "(Low-speed oper-ation)50\n",
      "Load Rating\n",
      "kg5\n",
      "Maximum \n",
      "Note3) 5.5\n",
      "Pose repeatability Note4) mm ±0.03\n",
      "Ambient tem-\n",
      "perature Note5) In use\n",
      "°C0 to 40\n",
      "At transport/\n",
      "storage-20 to 70 (Without freeze)\n",
      "Ambient \n",
      "humidityIn use\n",
      "%RH45 to 85\n",
      "At transport/\n",
      "storage95 or less (Without dew drops)\n",
      "Mass kg 32\n",
      "Total mass of the moving parts of \n",
      "the robotkg27\n",
      "Allowable\n",
      "moment loadWrist twist (J4)\n",
      "N•m12.8\n",
      "Wrist pitch (J5) 12.8\n",
      "Wrist roll (J6) 4.9\n",
      "\n",
      "2-24   Outside dimension • Operating range diagram2 Robot arm\n",
      "■Marking and rating plate\n",
      "Fig.2-4: Locations of the marking and rating plate\n",
      "Table 2-7: Details of the marking and rating plate\n",
      "No. Description Details\n",
      "1) Rating plate\n",
      "2) Protective earth symbol\n",
      "3) Maximum supply pressure AIR IN\n",
      "MAX. 0.54 MPa\n",
      "1)2)3)\n",
      "(Opposite side)\n",
      "Robot model\n",
      "Load capacity\n",
      "Arm reach\n",
      "Mass (kg/lb)\n",
      "Serial No.\n",
      "Date of \n",
      "manufacture\n",
      "Motor power\n",
      "\n"
     ]
    }
   ],
   "source": [
    "print(context)"
   ]
  },
  {
   "cell_type": "markdown",
   "id": "46441167-1fdf-4490-ad49-aa6ed7af7ffd",
   "metadata": {},
   "source": [
    "## Without RAG"
   ]
  },
  {
   "cell_type": "code",
   "execution_count": 29,
   "id": "d27a0192-7d29-4b6a-abe2-4ef5a969a857",
   "metadata": {},
   "outputs": [],
   "source": [
    "query = \"How do I install the Safety Extension Unit?\""
   ]
  },
  {
   "cell_type": "code",
   "execution_count": 19,
   "id": "fa7c1d40",
   "metadata": {},
   "outputs": [
    {
     "name": "stderr",
     "output_type": "stream",
     "text": [
      "C:\\Users\\justinfz\\AppData\\Local\\anaconda3\\Lib\\site-packages\\transformers\\models\\llama\\modeling_llama.py:649: UserWarning: 1Torch was not compiled with flash attention. (Triggered internally at ..\\aten\\src\\ATen\\native\\transformers\\cuda\\sdp_utils.cpp:455.)\n",
      "  attn_output = torch.nn.functional.scaled_dot_product_attention(\n"
     ]
    },
    {
     "data": {
      "text/plain": [
       "'How do I install the Safety Extension Unit?\\n\\nThe Safety Extension Unit (SEU) is a hardware component that can be installed on your Raspberry Pi to provide additional safety features, such as emergency shutdown and power-off protection. Here are the steps to install'"
      ]
     },
     "execution_count": 19,
     "metadata": {},
     "output_type": "execute_result"
    }
   ],
   "source": [
    "get_llama2_chat_reponse(query)"
   ]
  },
  {
   "cell_type": "markdown",
   "id": "ffd48653-fda0-43a7-bed8-6e6b3fe972c9",
   "metadata": {},
   "source": [
    "## RAG"
   ]
  },
  {
   "cell_type": "code",
   "execution_count": 221,
   "id": "c47a504e-27c7-40cf-ab51-9bcc1da19e77",
   "metadata": {},
   "outputs": [
    {
     "name": "stdout",
     "output_type": "stream",
     "text": [
      "\n",
      "[INST]\n",
      "Give answer for the question strictly based on the context provided.\n",
      "\n",
      "Question: What is the Manual No. of the following manual “Collaborative Robot Safety Manual”?\n",
      "\n",
      "Context : 2ABOUT THIS MANUAL\n",
      "This manual explains the robot setup procedure a nd the steps required for pick-and-place operations.\n",
      "It also explains how to setup the Easy-setup kit (option).\n",
      "The manual consists of the following parts: • Part 1 SETUP\n",
      "This part explains how to unpack, install, wire, and operate the robot.\n",
      " • Part 2 OPERATION\n",
      "This part explains how to create and run programs using RT VisualBox.\n",
      " • Part 3 VISION SENSORThis part explains how to create and run vision sensor programs using RT VisualBox.\n",
      "MANUALS INCLUDED WITH THIS PRODUCT\n",
      "*1 Instances where the CR800-D controller is mentioned also refer to the CR800-05VD.Manual name Description Manual No.\n",
      "Collaborative Robot Safety \n",
      "ManualTo ensure the safety of robot users, this ma nual provides information on common precautions and \n",
      "safety measures that should be taken when ha ndling the robot or creating and designing robot \n",
      "systems. Read this manual first.BFP-A3733\n",
      "Hello ASSISTA Quick Set-up \n",
      "Guide (This manual)Describes procedures including unpacking, inst allation, programming using RT VisualBox, and \n",
      "operation of the robot.BFP-A3715\n",
      "Standard Specifications Provides information on standard prod uct specifications, options, and maintenance parts. It also \n",
      "provides information on safety and technical pr ecautions when introducing the robot into a new \n",
      "environment.BFP-A3727\n",
      "Robot Arm Setup and \n",
      "MaintenanceExplains pre-operation requirements for the robot (unpacking, transportation, installation, and \n",
      "operation checks) and how to carry out maintenance and inspection.BFP-A3729\n",
      "Controller Setup and \n",
      "MaintenanceExplains the steps that must be taken before using the robot controller (unpacking, transportation, and \n",
      "installation). It also contains info rmation on maintenance and inspection.BFP-A3731\n",
      "Collaborative Robot: Detailed \n",
      "explanations of functions and \n",
      "operationsProvides information on functions sp ecific to collaborative robots. BFP-A3735\n",
      "Detailed explanations of \n",
      "functions and operations*1Provides information on functions and operation me thods, how to use MELFA-BASIC VI commands in \n",
      "programs, how to connect external input/output devic es, and how to set parameters. The FR series is \n",
      "used as an example for explanati on purposes. For information on unsupported functions, refer to the \n",
      "separate Instruction Manual \"Collaborative Robot:  Detailed explanations of  functions and operations\".BFP-A3478\n",
      "Troubleshooting*1Provides information on the causes and solutions to errors that may occur while operating the robot. BFP-A3480\n",
      "Tracking Function*1Provides information on the specif ications, functions, and usage of t he conveyor tracking function. BFP-A3520\n",
      "GOT Direct Connection \n",
      "Extended Function*1Describes the data configuration of the memory between the GOT and the robot, monitoring, and operating procedures.BFP-A3546\n",
      "Ethernet Function\n",
      "*1Explains how to communicate with a computer over Ethernet using TCP/IP protocols. BFP-A3379\n",
      "[/INST]\n",
      "Based on the context provided, the Manual No. of the \"Collaborative Robot Safety Manual\" is BFP-A3733.\n",
      "--- 1.20 seconds ---\n"
     ]
    }
   ],
   "source": [
    "query = \"What is the Manual No. of the following manual “Collaborative Robot Safety Manual”?\"\n",
    "\n",
    "retrieved_results = retrieve_vector_db(query, n_results=1)\n",
    "context = '\\n\\n'.join(retrieved_results['documents'][0])\n",
    "prompt = f'''\n",
    "[INST]\n",
    "Give answer for the question strictly based on the context provided.\n",
    "\n",
    "Question: {query}\n",
    "\n",
    "Context : {context}\n",
    "[/INST]\n",
    "'''\n",
    "start_time = time.time()\n",
    "print(get_llama2_chat_reponse(prompt, max_new_tokens=800))\n",
    "print(\"--- %.2f seconds ---\" % (time.time() - start_time))"
   ]
  },
  {
   "cell_type": "code",
   "execution_count": null,
   "id": "38d8834f-5255-4a03-8ae0-5319c0074cde",
   "metadata": {},
   "outputs": [],
   "source": [
    "print(context)"
   ]
  },
  {
   "cell_type": "code",
   "execution_count": 21,
   "id": "8bd3cb2b-5d82-4724-bcec-ac03247c4085",
   "metadata": {},
   "outputs": [
    {
     "name": "stdout",
     "output_type": "stream",
     "text": [
      "\n",
      "[INST]\n",
      "Give answer for the question strictly based on the context provided. Keep answers short and to the point.\n",
      "\n",
      "Question: How do I install the Safety Extension Unit?\n",
      "\n",
      "Context : 1 STEPS FROM UNPACKING THE ROBOT TO INSTALLING THE ROBOT 1.11 Installing the Safety Extension Unit 2111.11 Installing the Safety Extension Unit The following equipment is required. Install the Safety extension unit in the Earth le akage breaker / Safety extension unit power supply box. 1. Remove the fixing screws on the front co ver of the Earth leakage breaker / safety extension unit power supply box (four places). 2. Fix the Safety extension unit in plac e using the fixing screws (three places).Item number Item Quantity A-2) Earth leakage breaker / Safety extension unit power supply box1 A-8) Safety\n",
      "\n",
      "8)2 A-2) Earth leakage breaker / Safety extension unit power supply box1 D-3) Phillips-head screwdriver (length: 18 cm or longer) 1 A-5) Support bracket 1 Accessory A RIO cable 1 A-6) Mode selector switch key 1 - - - RIO cable (1m)Earth leakage breaker / Safety extension unit power supply box 1.3. 2.EMG / Mode selector switch box fixing screw EMG / Mode selector switch box fixing screwSupport bracketEMG / Mode selector switch box AUTOMATIC MANUAL --- Page 23 --- 1 STEPS FROM UNPACKING THE ROBOT TO INSTALLING THE ROBOT 1.11 Installing the Safety Extension Unit 2111.11 Installing the Safety\n",
      "\n",
      "Safety Extension Unit2 CONNECTING THE ROBOT CONTROLLER, ROBOT, AND PERIPHERALS 2.1 Connecting the Power Supply and Grounding Wire to the Safety Extension Unit The following equipment is required. 1. Connect the FG wire to the ground terminal of the Safety extension unit. 2. Connect the DCIN cable to the DCIN socket of the Safety extension unit.Item number Item Quantity A-2) Earth leakage breaker / Safety extension unit power supply box1 D-3) Phillips-head screwdriver (length: 18 cm or longer)1 Grounding terminal FG wire 1. 2. --- Page 25 --- 2 CONNECTING THE ROBOT CONTRO LLER, ROBOT, AND PERIPHERALS 2.2 Connecting the\n",
      "[/INST]\n",
      "To install the Safety Extension Unit, follow these steps:\n",
      "\n",
      "1. Remove the fixing screws on the front cover of the Earth leakage breaker / Safety extension unit power supply box (four places).\n",
      "2. Fix the Safety extension unit in place using the fixing screws (three places).\n",
      "\n",
      "Required equipment:\n",
      "\n",
      "* D-3) Phillips-head screwdriver (length: 18 cm or longer)\n",
      "* A-2) Earth leakage breaker / Safety extension unit power supply box\n",
      "* A-5) Support bracket\n",
      "* RIO cable (1m)\n",
      "* Earth leakage breaker / Safety extension unit power supply box\n",
      "* EMG / Mode selector switch box fixing screw\n",
      "* Support bracket\n",
      "* EMG / Mode selector switch box\n",
      "\n",
      "Note: Connect the FG wire to the ground terminal of the Safety extension unit and connect the DCIN cable to the DCIN socket of the Safety extension unit.\n"
     ]
    }
   ],
   "source": [
    "print(get_llama2_chat_reponse(prompt, max_new_tokens=800))"
   ]
  },
  {
   "cell_type": "code",
   "execution_count": 22,
   "id": "8aa02381-0b1b-485a-a728-cd0a0a38de20",
   "metadata": {},
   "outputs": [],
   "source": [
    "# import gc\n",
    "# gc.collect()\n",
    "# from pynvml import *\n",
    "# nvmlInit()\n",
    "# h = nvmlDeviceGetHandleByIndex(0)\n",
    "# info = nvmlDeviceGetMemoryInfo(h)\n",
    "# print(f'total    : {info.total}')\n",
    "# print(f'free     : {info.free}')\n",
    "# print(f'used     : {info.used}')"
   ]
  },
  {
   "cell_type": "code",
   "execution_count": null,
   "id": "0c6c05fd-5779-44b8-a0fb-80ebff79c8fa",
   "metadata": {},
   "outputs": [],
   "source": []
  }
 ],
 "metadata": {
  "kernelspec": {
   "display_name": "Python 3 (ipykernel)",
   "language": "python",
   "name": "python3"
  },
  "language_info": {
   "codemirror_mode": {
    "name": "ipython",
    "version": 3
   },
   "file_extension": ".py",
   "mimetype": "text/x-python",
   "name": "python",
   "nbconvert_exporter": "python",
   "pygments_lexer": "ipython3",
   "version": "3.11.7"
  }
 },
 "nbformat": 4,
 "nbformat_minor": 5
}
